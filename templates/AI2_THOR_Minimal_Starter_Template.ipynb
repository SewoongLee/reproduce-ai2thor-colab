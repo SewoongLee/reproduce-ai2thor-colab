{
  "nbformat": 4,
  "nbformat_minor": 0,
  "metadata": {
    "colab": {
      "name": "AI2-THOR-Minimal-Starter-Template.ipynb",
      "provenance": [],
      "collapsed_sections": [],
      "toc_visible": true,
      "machine_shape": "hm",
      "authorship_tag": "ABX9TyMCVAMwUv5+TLIzBv++k7Vr"
    },
    "kernelspec": {
      "name": "python3",
      "display_name": "Python 3"
    }
  },
  "cells": [
    {
      "cell_type": "markdown",
      "metadata": {
        "id": "QtK92Bzzohfn"
      },
      "source": [
        "# Installation\n",
        "\n",
        "⚡ _Note_: AI2-THOR often runs significantly _slower_ using Colab's runtime than it does with a local runtime. However, in many cases, it is nice to explore without installing anything locally and not all devices are compatible with running AI2-THOR (e.g., Windows devices, tables, phones)."
      ]
    },
    {
      "cell_type": "code",
      "metadata": {
        "colab": {
          "base_uri": "https://localhost:8080/",
          "height": 74
        },
        "id": "zAz-Gw8XhFiI",
        "outputId": "dd567d2e-90e8-4f86-94a5-7bdc30a69dcf"
      },
      "source": [
        "!pip install --upgrade ai2thor ai2thor-colab &> /dev/null\n",
        "import ai2thor\n",
        "import ai2thor_colab\n",
        "\n",
        "from ai2thor.controller import Controller\n",
        "from ai2thor_colab import (\n",
        "    plot_frames,\n",
        "    show_objects_table,\n",
        "    side_by_side,\n",
        "    overlay,\n",
        "    show_video\n",
        ")\n",
        "\n",
        "ai2thor_colab.start_xserver()\n",
        "\n",
        "\"AI2-THOR Version: \" + ai2thor.__version__"
      ],
      "execution_count": null,
      "outputs": [
        {
          "output_type": "display_data",
          "data": {
            "text/html": [
              "\n",
              "            <progress value='100' max=\"100\", style='width: 100%'>\n",
              "                100\n",
              "            </progress>\n",
              "        "
            ],
            "text/plain": [
              "<IPython.core.display.HTML object>"
            ]
          },
          "metadata": {
            "tags": []
          }
        },
        {
          "output_type": "execute_result",
          "data": {
            "application/vnd.google.colaboratory.intrinsic+json": {
              "type": "string"
            },
            "text/plain": [
              "'AI2-THOR Version: 3.2.0'"
            ]
          },
          "metadata": {
            "tags": []
          },
          "execution_count": 1
        }
      ]
    },
    {
      "cell_type": "code",
      "metadata": {
        "id": "QzRmqnLfMs6D",
        "colab": {
          "base_uri": "https://localhost:8080/"
        },
        "outputId": "a6071a92-33c5-4b68-eb75-2eff790a0532"
      },
      "source": [
        "controller = Controller()"
      ],
      "execution_count": null,
      "outputs": [
        {
          "output_type": "stream",
          "text": [
            "thor-Linux64-2363e8e05d06a096946df101aca987db3c43240c.zip: [ 100%  34.6 MiB/s]  of 525.MB\n"
          ],
          "name": "stderr"
        }
      ]
    }
  ]
}